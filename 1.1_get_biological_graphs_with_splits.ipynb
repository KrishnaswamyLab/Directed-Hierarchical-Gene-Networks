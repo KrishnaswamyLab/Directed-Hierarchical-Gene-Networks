{
 "cells": [
  {
   "cell_type": "code",
   "execution_count": 70,
   "id": "2aef5055",
   "metadata": {
    "scrolled": true
   },
   "outputs": [],
   "source": [
    "import omnipath as op\n",
    "import pandas as pd\n",
    "import networkx as nx\n",
    "import numpy as np\n",
    "import scipy\n",
    "import torch\n",
    "import torch_geometric\n",
    "from torch_geometric.data import Data\n",
    "import sklearn"
   ]
  },
  {
   "cell_type": "markdown",
   "id": "a63ae755",
   "metadata": {},
   "source": [
    "## Get OmniPath interactions, keep curated interactions and largest connected component"
   ]
  },
  {
   "cell_type": "code",
   "execution_count": 128,
   "id": "240e608c",
   "metadata": {},
   "outputs": [],
   "source": [
    "interactions = op.interactions.AllInteractions.get(genesymbols=True)\n",
    "interactions = interactions[(interactions['consensus_direction']) & (interactions['n_references'] != 'None')]"
   ]
  },
  {
   "cell_type": "code",
   "execution_count": 2,
   "id": "07fa10f6",
   "metadata": {},
   "outputs": [
    {
     "data": {
      "text/plain": [
       "<networkx.classes.digraph.DiGraph at 0x7f329eb631c0>"
      ]
     },
     "execution_count": 2,
     "metadata": {},
     "output_type": "execute_result"
    }
   ],
   "source": [
    "df = pd.read_csv('../cell_cell_comm/omnipath_embeddings/data/omnipath_curated_interactions.csv', index_col = 0)\n",
    "G = nx.from_pandas_edgelist(df=df, source='source_genesymbol', target='target_genesymbol', create_using=nx.DiGraph)\n",
    "Gcc = sorted(nx.connected_components(nx.to_undirected(G)), key=len, reverse=True)\n",
    "G = G.subgraph(Gcc[0])"
   ]
  },
  {
   "cell_type": "markdown",
   "id": "b2baf96f",
   "metadata": {},
   "source": [
    "## Get MST for training edges, then sample from other edges until number of training edges reached. Use other edges for validation, testing"
   ]
  },
  {
   "cell_type": "code",
   "execution_count": 178,
   "id": "212aa552",
   "metadata": {},
   "outputs": [],
   "source": [
    "np.random.seed(0)\n",
    "mstedges = [(x[0], x[1]) for x in tree.minimum_spanning_edges(nx.to_undirected(G))]\n",
    "\n",
    "mstedges_dir = []\n",
    "for edge in mstedges:\n",
    "    count = 0\n",
    "    if G.has_edge(edge[0], edge[1]):\n",
    "        mstedges_dir.append((edge[0], edge[1]))\n",
    "    elif G.has_edge(edge[1], edge[0]):\n",
    "        mstedges_dir.append((edge[1], edge[0]))       \n",
    "\n",
    "otheredges = np.array(list(set([(x[0], x[1]) for x in G.edges()]) - set(mstedges)))\n",
    "mask=np.arange(len(otheredges))\n",
    "np.random.shuffle(mask)\n",
    "all_edges = len(G.edges())"
   ]
  },
  {
   "cell_type": "code",
   "execution_count": 179,
   "id": "73393c0b",
   "metadata": {},
   "outputs": [],
   "source": [
    "val_perc=0.05\n",
    "test_perc=0.1\n",
    "\n",
    "val = otheredges[mask[:int(val_perc*all_edges)]]\n",
    "test = otheredges[mask[int(val_perc*all_edges):int(val_perc*all_edges) + int(test_perc*all_edges)]]\n",
    "train = np.vstack((np.array(mstedges_dir), otheredges[mask[int(val_perc*all_edges) + int(test_perc*all_edges):]]))"
   ]
  },
  {
   "cell_type": "code",
   "execution_count": 180,
   "id": "a0ae9bc2",
   "metadata": {},
   "outputs": [],
   "source": [
    "train_types = []\n",
    "for edge in train:\n",
    "    train_types.append(df[(df['source_genesymbol'] == edge[0]) & (df['target_genesymbol'] == edge[1])]['type'].iloc[0])"
   ]
  },
  {
   "cell_type": "code",
   "execution_count": 181,
   "id": "c27d97a0",
   "metadata": {},
   "outputs": [],
   "source": [
    "val_types = []\n",
    "for edge in val:\n",
    "    val_types.append(df[(df['source_genesymbol'] == edge[0]) & (df['target_genesymbol'] == edge[1])]['type'].iloc[0])"
   ]
  },
  {
   "cell_type": "code",
   "execution_count": 182,
   "id": "56bc0539",
   "metadata": {},
   "outputs": [],
   "source": [
    "test_types = []\n",
    "for edge in test:\n",
    "    test_types.append(df[(df['source_genesymbol'] == edge[0]) & (df['target_genesymbol'] == edge[1])]['type'].iloc[0])"
   ]
  },
  {
   "cell_type": "code",
   "execution_count": 183,
   "id": "b8a2c20a",
   "metadata": {},
   "outputs": [],
   "source": [
    "train_with_edge = np.hstack((train, np.array(train_types).reshape(-1,1)))[:, [0,2,1]]\n",
    "val_with_edge = np.hstack((val, np.array(val_types).reshape(-1,1)))[:, [0,2,1]]\n",
    "test_with_edge = np.hstack((test, np.array(test_types).reshape(-1,1)))[:, [0,2,1]]"
   ]
  },
  {
   "cell_type": "code",
   "execution_count": 184,
   "id": "c740d549",
   "metadata": {},
   "outputs": [],
   "source": [
    "np.savez('data/omnipath_curated_interactions.npz', train=train, val=val, test=test)"
   ]
  },
  {
   "cell_type": "code",
   "execution_count": 186,
   "id": "d0f85777",
   "metadata": {},
   "outputs": [],
   "source": [
    "np.savez('data/omnipath_curated_interactions_with_edges.npz', train=train_with_edge, val=val_with_edge, test=test_with_edge)"
   ]
  },
  {
   "cell_type": "markdown",
   "id": "78ddfaeb",
   "metadata": {},
   "source": [
    "## Get other interactions, keep curated interactions and largest connected component"
   ]
  },
  {
   "cell_type": "code",
   "execution_count": 66,
   "id": "3b88e9e0",
   "metadata": {},
   "outputs": [],
   "source": [
    "interactions = op.interactions.AllInteractions.get(genesymbols=True)\n",
    "interactions = interactions[(interactions['consensus_direction']) & (interactions['n_references'] != 'None')]"
   ]
  },
  {
   "cell_type": "code",
   "execution_count": 4,
   "id": "ede98ab8",
   "metadata": {},
   "outputs": [],
   "source": [
    "df = interactions[['source_genesymbol', 'type', 'target_genesymbol']].drop_duplicates()\n",
    "G = nx.from_pandas_edgelist(df, source='source_genesymbol', target='target_genesymbol', create_using=nx.DiGraph)"
   ]
  },
  {
   "cell_type": "code",
   "execution_count": 254,
   "id": "ac8ee9be",
   "metadata": {},
   "outputs": [
    {
     "name": "stdout",
     "output_type": "stream",
     "text": [
      "0.9817559863169898\n",
      "0.9969014084507042\n"
     ]
    }
   ],
   "source": [
    "db = 'SIGNOR'\n",
    "type = 'post_translational'\n",
    "interactions_sub = interactions[interactions['type'] == type]\n",
    "df = interactions_sub[[db in x for x in interactions_sub['sources'].str.split(';')]]\n",
    "G = nx.from_pandas_edgelist(df=df, source='source_genesymbol', target='target_genesymbol', create_using=nx.DiGraph)\n",
    "Gcc = sorted(nx.connected_components(nx.to_undirected(G)), key=len, reverse=True)\n",
    "print(G.subgraph(Gcc[0]).number_of_nodes() / G.number_of_nodes())\n",
    "print(G.subgraph(Gcc[0]).number_of_edges() / G.number_of_edges())\n",
    "G = G.subgraph(Gcc[0])"
   ]
  },
  {
   "cell_type": "markdown",
   "id": "89ae5628",
   "metadata": {},
   "source": [
    "## Get MST for training edges, then sample from other edges until number of training edges reached. Use other edges for validation, testing"
   ]
  },
  {
   "cell_type": "code",
   "execution_count": 42,
   "id": "e4104598",
   "metadata": {},
   "outputs": [],
   "source": [
    "np.random.seed(0)\n",
    "mstedges = [(x[0], x[1]) for x in tree.minimum_spanning_edges(nx.to_undirected(G))]\n",
    "\n",
    "mstedges_dir = []\n",
    "for edge in mstedges:\n",
    "    count = 0\n",
    "    if G.has_edge(edge[0], edge[1]):\n",
    "        mstedges_dir.append((edge[0], edge[1]))\n",
    "    elif G.has_edge(edge[1], edge[0]):\n",
    "        mstedges_dir.append((edge[1], edge[0]))       \n",
    "\n",
    "otheredges = np.array(list(set([(x[0], x[1]) for x in G.edges()]) - set(mstedges_dir)))\n",
    "mask=np.arange(len(otheredges))\n",
    "np.random.shuffle(mask)\n",
    "all_edges = len(G.edges())"
   ]
  },
  {
   "cell_type": "code",
   "execution_count": 43,
   "id": "fbae8898",
   "metadata": {},
   "outputs": [
    {
     "data": {
      "text/plain": [
       "1245"
      ]
     },
     "execution_count": 43,
     "metadata": {},
     "output_type": "execute_result"
    }
   ],
   "source": [
    "len(mstedges_dir)"
   ]
  },
  {
   "cell_type": "code",
   "execution_count": 44,
   "id": "66c2edf8",
   "metadata": {},
   "outputs": [
    {
     "data": {
      "text/plain": [
       "2368"
      ]
     },
     "execution_count": 44,
     "metadata": {},
     "output_type": "execute_result"
    }
   ],
   "source": [
    "all_edges"
   ]
  },
  {
   "cell_type": "code",
   "execution_count": 45,
   "id": "583b6f6a",
   "metadata": {},
   "outputs": [
    {
     "data": {
      "text/plain": [
       "2012.8"
      ]
     },
     "execution_count": 45,
     "metadata": {},
     "output_type": "execute_result"
    }
   ],
   "source": [
    "all_edges*0.85 # verify it's >= mstedges_dir, otherwise proportions are off"
   ]
  },
  {
   "cell_type": "code",
   "execution_count": 46,
   "id": "bdf601ea",
   "metadata": {},
   "outputs": [],
   "source": [
    "val_perc=0.05\n",
    "test_perc=0.1\n",
    "\n",
    "val = otheredges[mask[:int(val_perc*all_edges)]]\n",
    "test = otheredges[mask[int(val_perc*all_edges):int(val_perc*all_edges) + int(test_perc*all_edges)]]\n",
    "train = np.vstack((np.array(mstedges_dir), otheredges[mask[int(val_perc*all_edges) + int(test_perc*all_edges):]]))"
   ]
  },
  {
   "cell_type": "code",
   "execution_count": 47,
   "id": "9b57f805",
   "metadata": {},
   "outputs": [
    {
     "data": {
      "text/plain": [
       "(2014, 2)"
      ]
     },
     "execution_count": 47,
     "metadata": {},
     "output_type": "execute_result"
    }
   ],
   "source": [
    "train.shape # verify train shape is close to all_edges*0.85"
   ]
  },
  {
   "cell_type": "code",
   "execution_count": 48,
   "id": "ec718ec8",
   "metadata": {},
   "outputs": [],
   "source": [
    "np.savez(f'data/{db}_curated_interactions.npz', train=train, val=val, test=test)"
   ]
  }
 ],
 "metadata": {
  "kernelspec": {
   "display_name": "Python 3",
   "language": "python",
   "name": "python3"
  },
  "language_info": {
   "codemirror_mode": {
    "name": "ipython",
    "version": 3
   },
   "file_extension": ".py",
   "mimetype": "text/x-python",
   "name": "python",
   "nbconvert_exporter": "python",
   "pygments_lexer": "ipython3",
   "version": "3.8.5"
  }
 },
 "nbformat": 4,
 "nbformat_minor": 5
}

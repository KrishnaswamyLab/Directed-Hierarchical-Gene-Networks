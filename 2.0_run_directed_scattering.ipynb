{
 "cells": [
  {
   "cell_type": "code",
   "execution_count": null,
   "id": "6a20de33",
   "metadata": {
    "scrolled": true
   },
   "outputs": [],
   "source": [
    "import omnipath as op\n",
    "import pandas as pd\n",
    "import networkx as nx\n",
    "import numpy as np\n",
    "import scipy\n",
    "import torch\n",
    "import torch_geometric\n",
    "from torch_geometric.data import Data\n",
    "import sklearn\n",
    "import sys\n",
    "from run import graphscattering as gs"
   ]
  },
  {
   "cell_type": "markdown",
   "id": "f4f076a6",
   "metadata": {},
   "source": [
    "## Run Directed Scattering on training graph"
   ]
  },
  {
   "cell_type": "code",
   "execution_count": null,
   "id": "8f0e0ce8",
   "metadata": {},
   "outputs": [],
   "source": [
    "np.random.seed(0)\n",
    "\n",
    "for dataset in ['Texas', 'Cornell', 'omnipath', 'SIGNOR', 'iPTMnet']:\n",
    "    print (dataset)\n",
    "    \n",
    "    splits = np.load(f'data/{dataset}_curated_interactions.npz')\n",
    "    train, val, test = splits['train'], splits['val'], splits['test']\n",
    "    train = pd.DataFrame(train)\n",
    "    train.columns = ['source', 'target']\n",
    "\n",
    "    G = nx.from_pandas_edgelist(train, source='source', target='target', create_using=nx.DiGraph)\n",
    "    A = nx.adjacency_matrix(G).toarray()\n",
    "\n",
    "    N = A.shape[0]\n",
    "    signal = np.random.randn(N, 1)\n",
    "    for q in [0.0, 0.1, 0.2]:\n",
    "        vals, vecs = gs.compute_eigen(A, q)\n",
    "        for J in [5, 10, 15]:\n",
    "            print ('J', J)\n",
    "            scales = np.flip(np.arange(0, J+1))\n",
    "            all_features, f = gs.compute_all_features(vals, vecs, signal, N, \"lowpass\", scales)\n",
    "\n",
    "            train_ds = pd.DataFrame(data=all_features, index=G.nodes())\n",
    "            train_ds.to_csv(f'results/Directed_Scattering/Directed_Scattering_J{J}_q{q}_{dataset}_embedding.csv', compression='gzip')"
   ]
  },
  {
   "cell_type": "markdown",
   "id": "316b34c6",
   "metadata": {},
   "source": [
    "## Run Directed Scattering on train+val graph\n"
   ]
  },
  {
   "cell_type": "code",
   "execution_count": null,
   "id": "e0c34dc6",
   "metadata": {
    "scrolled": true
   },
   "outputs": [],
   "source": [
    "np.random.seed(0)\n",
    "\n",
    "for dataset in ['Texas', 'Cornell', 'omnipath', 'SIGNOR', 'iPTMnet']:\n",
    "    print (dataset)\n",
    "    \n",
    "    splits = np.load(f'data/{dataset}_curated_interactions.npz')\n",
    "    train, val, test = splits['train'], splits['val'], splits['test']\n",
    "    train = pd.DataFrame(np.vstack((train, val)))\n",
    "    train.columns = ['source', 'target']\n",
    "\n",
    "    G = nx.from_pandas_edgelist(train, source='source', target='target', create_using=nx.DiGraph)\n",
    "    A = nx.adjacency_matrix(G).toarray()\n",
    "\n",
    "    N = A.shape[0]\n",
    "    signal = np.random.randn(N, 1)\n",
    "    for q in [0.0, 0.1, 0.2]:\n",
    "        print ('q', q)\n",
    "        vals, vecs = gs.compute_eigen(A, q)\n",
    "        for J in [5, 10, 15]:\n",
    "            print ('J', J)\n",
    "            scales = np.flip(np.arange(0, J+1))\n",
    "            all_features, f = gs.compute_all_features(vals, vecs, signal, N, \"lowpass\", scales)\n",
    "\n",
    "            train_ds = pd.DataFrame(data=all_features, index=G.nodes())\n",
    "            train_ds.to_csv(f'results/Directed_Scattering/Directed_Scattering_J{J}_q{q}_{dataset}_train_val_embedding.csv', compression='gzip')"
   ]
  }
 ],
 "metadata": {
  "kernelspec": {
   "display_name": "Python 3",
   "language": "python",
   "name": "python3"
  },
  "language_info": {
   "codemirror_mode": {
    "name": "ipython",
    "version": 3
   },
   "file_extension": ".py",
   "mimetype": "text/x-python",
   "name": "python",
   "nbconvert_exporter": "python",
   "pygments_lexer": "ipython3",
   "version": "3.8.5"
  }
 },
 "nbformat": 4,
 "nbformat_minor": 5
}

{
 "cells": [
  {
   "cell_type": "code",
   "execution_count": null,
   "id": "382720ba",
   "metadata": {},
   "outputs": [],
   "source": [
    "import numpy as np\n",
    "import os\n",
    "import pandas as pd\n",
    "import sklearn\n",
    "import sklearn.linear_model\n",
    "from tqdm import tqdm\n",
    "from sklearn.decomposition import PCA\n",
    "from collections import defaultdict"
   ]
  },
  {
   "cell_type": "code",
   "execution_count": null,
   "id": "c5846128",
   "metadata": {},
   "outputs": [],
   "source": [
    "num_runs = 5"
   ]
  },
  {
   "cell_type": "code",
   "execution_count": null,
   "id": "6719e7cf",
   "metadata": {
    "scrolled": true
   },
   "outputs": [],
   "source": [
    "for dataset in ['Texas', 'Cornell', 'omnipath', 'SIGNOR', 'iPTMnet']:\n",
    "    config = np.load(f'results/DS-AE/{dataset}/best_val.npz', allow_pickle=True)['config'][()]\n",
    "    for i in range(num_runs):\n",
    "        print(f\"python test.py --model DS-AE --lr {config['lr']} --bias {config['bias']} --dropout {config['dropout']} --num-layers {config['num_layers']} --act {config['act']} --weight-decay {config['weight_decay']} --save-as best_test_{i} --q {config['q']} --dataset {dataset} --J {config['J']} --seed {1234+i}\")\n",
    "        \n",
    "    config = np.load(f'results/DS-PM/{dataset}/best_val.npz', allow_pickle=True)['config'][()]\n",
    "    for i in range(num_runs):\n",
    "        print (f\"python test.py --model DS-PM --lr {config['lr']} --c {config['c']} --act linear --weight-decay {config['weight_decay']} --save-as best_test_{i} --q {config['q']} --dataset {dataset} --J {config['J']} --seed {1234+i}\")\n",
    "        \n",
    "    config = np.load(f'results/Node2Vec/{dataset}/best_val.npz', allow_pickle=True)['config'][()]\n",
    "    for i in range(num_runs):\n",
    "        print (f\"python test.py --model Node2Vec --walk-length {config['walk_length']} --num-walks {config['num_walks']} --save-as best_test_{i} --seed {1234+i} --dataset {dataset}\")\n",
    "        \n",
    "    config = np.load(f'results/Shallow/{dataset}/best_val_undirected.npz', allow_pickle=True)['config'][()]\n",
    "    for i in range(num_runs):\n",
    "        print (f\"python hyperbolic_methods/test.py --task lp --model Shallow --manifold PoincareBall --lr {config['lr']} --weight-decay {config['weight_decay']} --num-layers 0 --use-feats 0 --dropout {config['dropout']} --act {config['act']} --bias {config['bias']} --optimizer RiemannianAdam --symmetrize 1 --save 1 --save-as best_test_{i}_undirected --cuda -1 --dataset {dataset} --seed {1234+i}\")\n",
    "        \n",
    "    config = np.load(f'results/Shallow/{dataset}/best_val_directed.npz', allow_pickle=True)['config'][()]\n",
    "    for i in range(num_runs):\n",
    "        print (f\"python hyperbolic_methods/test.py --task lp --model Shallow --manifold PoincareBall --lr {config['lr']} --weight-decay {config['weight_decay']} --num-layers 0 --use-feats 0 --dropout {config['dropout']} --act {config['act']} --bias {config['bias']} --optimizer RiemannianAdam --symmetrize 0 --save 1 --save-as best_test_{i}_directed --cuda -1 --dataset {dataset} --seed {1234+i}\")\n",
    "        \n",
    "    config = np.load(f'results/GAE/{dataset}/best_val_undirected.npz', allow_pickle=True)['config'][()]\n",
    "    for i in range(num_runs):\n",
    "        print (f\"python test.py --model GAE --lr {config['lr']} --bias {config['bias']} --dropout {config['dropout']} --num-layers {config['num_layers']} --act {config['act']} --weight-decay {config['weight_decay']} --symmetrize-adj 1 --save-as best_test_{i}_undirected --device cuda:0 --dataset {dataset} --seed {1234+i}\")\n",
    "    \n",
    "    config = np.load(f'results/GAE/{dataset}/best_val_directed.npz', allow_pickle=True)['config'][()]\n",
    "    for i in range(num_runs):\n",
    "        print (f\"python test.py --model GAE --lr {config['lr']} --bias {config['bias']} --dropout {config['dropout']} --num-layers {config['num_layers']} --act {config['act']} --weight-decay {config['weight_decay']} --symmetrize-adj 0 --save-as best_test_{i}_directed --device cuda:0 --dataset {dataset} --seed {1234+i}\")\n",
    "        \n",
    "    config = np.load(f'results/HGCN/{dataset}/best_val_undirected.npz', allow_pickle=True)['config'][()]\n",
    "    for i in range(num_runs):\n",
    "        print (f\"python hyperbolic_methods/test.py --task lp --model HGCN --manifold PoincareBall --lr {config['lr']} --weight-decay {config['weight_decay']} --num-layers {config['num_layers']} --dropout {config['dropout']} --act {config['act']} --bias {config['bias']} --optimizer Adam --c {config['c']} --symmetrize 1 --save 1 --save-as best_test_{i}_undirected --cuda 1 --dataset {dataset} --seed {1234+i}\")\n",
    "        \n",
    "    config = np.load(f'results/HGCN/{dataset}/best_val_directed.npz', allow_pickle=True)['config'][()]\n",
    "    for i in range(num_runs):\n",
    "        print (f\"python hyperbolic_methods/test.py --task lp --model HGCN --manifold PoincareBall --lr {config['lr']} --weight-decay {config['weight_decay']} --num-layers {config['num_layers']} --dropout {config['dropout']} --act {config['act']} --bias {config['bias']} --optimizer Adam --c {config['c']} --symmetrize 0 --save 1 --save-as best_test_{i}_directed --cuda -1 --dataset {dataset} --seed {1234+i}\")\n",
    "    \n",
    "    config = np.load(f'results/MagNet/{dataset}/best_val.npz', allow_pickle=True)['config'][()]   \n",
    "    for i in range(num_runs):\n",
    "        print (f\"python test.py --model MagNet --lr {config['lr']} --bias {config['bias']} --dropout {config['dropout']} --num-layers {config['num_layers']} --act {config['act']} --q {config['q']} --weight-decay {config['weight_decay']} --task existence --save-as best_test_{i} --num-classes 2 --dataset {dataset} --seed {1234+i}\")\n",
    "        \n",
    "    if dataset == 'omnipath':\n",
    "        \n",
    "        config = np.load(f'results/TransE/{dataset}/best_val_edgeatt.npz', allow_pickle=True)['config'][()]\n",
    "        for i in range(num_runs):\n",
    "            print (f\"python test.py --model TransE --lr {config['lr']} --temperature {config['temperature']} --margin {config['margin']} --weight-decay {config['weight_decay']} --edge_attribute 1 --save-as best_test_edgeatt_{i} --dataset {dataset} --seed {1234+i}\")\n",
    "     \n",
    "        config = np.load(f'results/TransE/{dataset}/best_val_noedgeatt.npz', allow_pickle=True)['config'][()]\n",
    "        for i in range(num_runs):\n",
    "            print (f\"python test.py --model TransE --lr {config['lr']} --temperature {config['temperature']} --margin {config['margin']} --weight-decay {config['weight_decay']} --edge_attribute 0 --save-as best_test_noedgeatt_{i} --dataset {dataset} --seed {1234+i}\")\n",
    "        \n",
    "    else:\n",
    "        config = np.load(f'results/TransE/{dataset}/best_val.npz', allow_pickle=True)['config'][()]\n",
    "        for i in range(num_runs):\n",
    "            print (f\"python test.py --model TransE --lr {config['lr']} --temperature {config['temperature']} --margin {config['margin']} --weight-decay {config['weight_decay']} --edge_attribute 0 --save-as best_test_{i} --dataset {dataset} --seed {1234+i}\")\n",
    "        \n",
    "    config = np.load(f'results/UDS-AE/{dataset}/best_val.npz', allow_pickle=True)['config'][()] \n",
    "    for i in range(num_runs):\n",
    "        print (f\"python test.py --model UDS-AE --lr {config['lr']} --bias {config['bias']} --dropout {config['dropout']} --num-layers {config['num_layers']} --act {config['act']} --weight-decay {config['weight_decay']} --save-as best_test_{i} --dataset {dataset} --seed {1234+i}\")"
   ]
  },
  {
   "cell_type": "code",
   "execution_count": null,
   "id": "d35e0382",
   "metadata": {},
   "outputs": [],
   "source": [
    "def directed_classifier(embedding, train_pairs, test_pairs):\n",
    "    \n",
    "    embedding.index = embedding.index.astype(str)\n",
    "    train_pairs = train_pairs.astype(str)\n",
    "    test_pairs = test_pairs.astype(str)\n",
    "    \n",
    "    X_train_pos = np.hstack((embedding.loc[train_pairs[:, 0]], embedding.loc[train_pairs[:, 1]]))\n",
    "    X_train_neg = np.hstack((embedding.loc[train_neg_pairs[:, 0]], embedding.loc[train_neg_pairs[:, 1]]))\n",
    "    X_train = np.vstack((X_train_pos, X_train_neg))\n",
    "    y_train = [1]*(X_train_pos.shape[0]) + [0]*(X_train_neg.shape[0])\n",
    "\n",
    "    X_test_pos = np.hstack((embedding.loc[test_pairs[:, 0]], embedding.loc[test_pairs[:, 1]]))\n",
    "    X_test_neg = np.hstack((embedding.loc[test_neg_pairs[:, 0]], embedding.loc[test_neg_pairs[:, 1]]))\n",
    "    X_test = np.vstack((X_test_pos, X_test_neg))\n",
    "    y_test = [1]*(X_test_pos.shape[0]) + [0]*(X_test_neg.shape[0])\n",
    "\n",
    "    clf = sklearn.linear_model.RidgeClassifier(random_state=0)\n",
    "    clf.fit(X_train, y_train, )\n",
    "    y_score_test = clf.decision_function(X_test)\n",
    "\n",
    "    return ((sklearn.metrics.roc_auc_score(y_test, y_score_test), \n",
    "            sklearn.metrics.average_precision_score(y_test, y_score_test)))"
   ]
  },
  {
   "cell_type": "code",
   "execution_count": null,
   "id": "42c3d86c",
   "metadata": {
    "scrolled": true
   },
   "outputs": [],
   "source": [
    "results = []\n",
    "for dataset in ['Texas', 'Cornell', 'omnipath', 'SIGNOR', 'iPTMnet']:\n",
    "    splits = np.load(f'data/{dataset}_curated_interactions.npz')\n",
    "    train, val, test = splits['train'], splits['val'], splits['test']\n",
    "    all_data = np.vstack((train, val, test))\n",
    "    \n",
    "    train = np.vstack((train, val))\n",
    "    \n",
    "    train_neg_pairs = []\n",
    "    for pair in tqdm(train):\n",
    "        if len(set(np.where(all_data[:, 0] == pair[1])[0]).intersection(np.where(all_data[:, 1] == pair[0])[0])) == 0:\n",
    "            train_neg_pairs.append([pair[1], pair[0]])\n",
    "\n",
    "    train_neg_pairs = np.array(train_neg_pairs).reshape(-1,2)\n",
    "\n",
    "    test_neg_pairs = []\n",
    "    for pair in tqdm(test):\n",
    "        if len(set(np.where(all_data[:, 0] == pair[1])[0]).intersection(np.where(all_data[:, 1] == pair[0])[0])) == 0:\n",
    "            test_neg_pairs.append([pair[1], pair[0]])\n",
    "\n",
    "    test_neg_pairs = np.array(test_neg_pairs).reshape(-1,2)\n",
    "    \n",
    "    train_neg_pairs = train_neg_pairs.astype(str)\n",
    "    test_neg_pairs = test_neg_pairs.astype(str)\n",
    "\n",
    "    for method in ['DS-AE', 'DS-PM', 'Node2Vec', 'Shallow', 'GAE', 'HGCN', 'MagNet', 'TransE', 'UDS-AE']:\n",
    "        files = [x for x in os.listdir(f'results/{method}/{dataset}/') if (x.endswith('npz')) & ('test' in x) & ('ablated' not in x) & ('v2' in x)]\n",
    "        for file in files:\n",
    "            try:\n",
    "                res = np.load(f'results/{method}/{dataset}/{file}', allow_pickle=True)\n",
    "            except:\n",
    "                continue\n",
    "            config = res['config']\n",
    "            res = pd.DataFrame(data=res['embedding'], index=res['names'])\n",
    "            try:\n",
    "                auroc = directed_classifier(res, train, test)[0]\n",
    "            except ValueError:\n",
    "                print (method, file)\n",
    "                continue\n",
    "                \n",
    "            results.append([dataset, method, 'noedgeatt' in file, 'undirected' in file, auroc])\n",
    "\n",
    "results = pd.DataFrame(results)"
   ]
  },
  {
   "cell_type": "code",
   "execution_count": null,
   "id": "faa2b69f",
   "metadata": {},
   "outputs": [],
   "source": [
    "results.columns = ['Dataset', 'Method', 'NoEdge', 'Undirected', 'AUROC']"
   ]
  },
  {
   "cell_type": "code",
   "execution_count": null,
   "id": "1c61f7cd",
   "metadata": {
    "scrolled": true
   },
   "outputs": [],
   "source": [
    "auroc_per_dataset = defaultdict(list)\n",
    "for dataset in ['Texas', 'Cornell']:\n",
    "    \n",
    "    res = results[results['Dataset'] == dataset]\n",
    "    auroc_per_dataset['DSAE-Euc'].append(res[res['Method'] == 'DS-AE']['AUROC'].mean())\n",
    "    auroc_per_dataset['DSAE-Hyp'].append(res[res['Method'] == 'DS-PM']['AUROC'].mean())\n",
    "    auroc_per_dataset['node2vec'].append(res[res['Method'] == 'Node2Vec']['AUROC'].mean())\n",
    "    auroc_per_dataset['PM'].append(res[(res['Method'] == 'Shallow') & (res['Undirected'] == True)]['AUROC'].mean())\n",
    "    auroc_per_dataset['PM-D'].append(res[(res['Method'] == 'Shallow') & (res['Undirected'] == False)]['AUROC'].mean())\n",
    "    auroc_per_dataset['GAE'].append(res[(res['Method'] == 'GAE') & (res['Undirected'] == True)]['AUROC'].mean())\n",
    "    auroc_per_dataset['GAE-D'].append(res[(res['Method'] == 'GAE') & (res['Undirected'] == False)]['AUROC'].mean())\n",
    "    auroc_per_dataset['HGCN'].append(res[(res['Method'] == 'HGCN') & (res['Undirected'] == True)]['AUROC'].mean())\n",
    "    auroc_per_dataset['HGCN-D'].append(res[(res['Method'] == 'HGCN') & (res['Undirected'] == False)]['AUROC'].mean())\n",
    "    auroc_per_dataset['MagNet'].append(res[(res['Method'] == 'MagNet')]['AUROC'].mean())\n",
    "    auroc_per_dataset['TransE'].append(res[(res['Method'] == 'TransE') & (res['NoEdge'] == True)]['AUROC'].mean())    \n",
    "    auroc_per_dataset['TransE-E'].append(res[(res['Method'] == 'TransE') & (res['NoEdge'] == False)]['AUROC'].mean())    \n",
    "    auroc_per_dataset['UDS-AE'].append(res[(res['Method'] == 'UDS-AE')]['AUROC'].mean())"
   ]
  },
  {
   "cell_type": "code",
   "execution_count": null,
   "id": "292cefcd",
   "metadata": {},
   "outputs": [],
   "source": [
    "print ('Method', '&', ' & '.join(['Texas', 'Cornell']), '\\\\\\\\')\n",
    "print ('\\hline\\hline')\n",
    "for method in ['DSAE-Euc', 'DSAE-Hyp', 'node2vec', 'PM', 'PM-D', 'GAE', 'GAE-D', 'HGCN', 'HGCN-D', 'MagNet', 'TransE', 'TransE-E', 'UDS-AE']:\n",
    "    print (method, '&', ' & '.join(['%.3f'% x for x in auroc_per_dataset[method]]), \"\\\\\\\\\")"
   ]
  }
 ],
 "metadata": {
  "kernelspec": {
   "display_name": "Python 3",
   "language": "python",
   "name": "python3"
  },
  "language_info": {
   "codemirror_mode": {
    "name": "ipython",
    "version": 3
   },
   "file_extension": ".py",
   "mimetype": "text/x-python",
   "name": "python",
   "nbconvert_exporter": "python",
   "pygments_lexer": "ipython3",
   "version": "3.8.5"
  }
 },
 "nbformat": 4,
 "nbformat_minor": 5
}

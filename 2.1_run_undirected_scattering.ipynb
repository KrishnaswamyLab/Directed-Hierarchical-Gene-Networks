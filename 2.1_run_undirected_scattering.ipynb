{
 "cells": [
  {
   "cell_type": "code",
   "execution_count": null,
   "id": "aecded6e",
   "metadata": {
    "scrolled": true
   },
   "outputs": [],
   "source": [
    "import omnipath as op\n",
    "import pandas as pd\n",
    "import networkx as nx\n",
    "import numpy as np\n",
    "import scipy\n",
    "import torch\n",
    "import torch_geometric\n",
    "from torch_geometric.data import Data\n",
    "import sklearn\n",
    "from run.run_undirected_scattering import *"
   ]
  },
  {
   "cell_type": "markdown",
   "id": "3d50de3b",
   "metadata": {},
   "source": [
    "## Run Undirected Scattering on training graph"
   ]
  },
  {
   "cell_type": "code",
   "execution_count": null,
   "id": "4600fb30",
   "metadata": {},
   "outputs": [],
   "source": [
    "for dataset in ['Texas', 'Cornell', 'omnipath', 'SIGNOR', 'iPTMnet']:\n",
    "    print (dataset)\n",
    "    \n",
    "    splits = np.load(f'data/{dataset}_curated_interactions.npz')\n",
    "    train, val, test = splits['train'], splits['val'], splits['test']\n",
    "    train.columns = ['source', 'target']\n",
    "\n",
    "    G = nx.from_pandas_edgelist(train, source='source', target='target')\n",
    "    A = nx.adjacency_matrix(G).toarray()\n",
    "    N = A.shape[0]\n",
    "    \n",
    "    GS = graph_scattering(A, scales=range(2), q = 0.1, order= 2)\n",
    "    GS.dirac_signals()\n",
    "    GS.diffusion_operators()\n",
    "    GS.zeroth_order_transform()\n",
    "    GS.first_order_transform()\n",
    "    GS.second_order_transform()\n",
    "\n",
    "    gz = GS.zeroth_order.reshape((1,GS.zeroth_order.shape[0], GS.zeroth_order.shape[1]))\n",
    "    g1 = GS.first_order\n",
    "    g2 = GS.second_order\n",
    "    z = np.concatenate([gz, g1, g2], axis = 0)\n",
    "\n",
    "    c = np.transpose(z, (1,0,2)) #to take moments by filter scale\n",
    "    mean, variance, skew, kurtosis  = calculate_stats(c)\n",
    "    stats = np.concatenate([mean, variance, skew, kurtosis])\n",
    "    vals = pd.DataFrame(stats.T).fillna(0).values\n",
    "    pd.DataFrame(vals, index=G.nodes).to_csv(f'results/Undirected_Scattering/Undirected_Scattering_{dataset}_embedding.csv')"
   ]
  },
  {
   "cell_type": "markdown",
   "id": "cca6700e",
   "metadata": {},
   "source": [
    "## Run Undirected Scattering on train+val graph"
   ]
  },
  {
   "cell_type": "code",
   "execution_count": null,
   "id": "b63c003d",
   "metadata": {},
   "outputs": [],
   "source": [
    "for dataset in ['Texas', 'Cornell', 'omnipath', 'SIGNOR', 'iPTMnet']:\n",
    "    print (dataset)\n",
    "    \n",
    "    splits = np.load(f'data/{dataset}_curated_interactions.npz')\n",
    "    train, val, test = splits['train'], splits['val'], splits['test']\n",
    "    train = pd.DataFrame(np.vstack((train, val)))\n",
    "    train.columns = ['source', 'target']\n",
    "\n",
    "    G = nx.from_pandas_edgelist(train, source='source', target='target')\n",
    "    A = nx.adjacency_matrix(G).toarray()\n",
    "    N = A.shape[0]\n",
    "    \n",
    "    GS = graph_scattering(A, scales=range(2), q = 0.1, order= 2)\n",
    "    GS.dirac_signals()\n",
    "    GS.diffusion_operators()\n",
    "    GS.zeroth_order_transform()\n",
    "    GS.first_order_transform()\n",
    "    GS.second_order_transform()\n",
    "\n",
    "    gz = GS.zeroth_order.reshape((1,GS.zeroth_order.shape[0], GS.zeroth_order.shape[1]))\n",
    "    g1 = GS.first_order\n",
    "    g2 = GS.second_order\n",
    "    z = np.concatenate([gz, g1, g2], axis = 0)\n",
    "\n",
    "    c = np.transpose(z, (1,0,2)) #to take moments by filter scale\n",
    "    mean, variance, skew, kurtosis  = calculate_stats(c)\n",
    "    stats = np.concatenate([mean, variance, skew, kurtosis])\n",
    "    vals = pd.DataFrame(stats.T).fillna(0).values\n",
    "    pd.DataFrame(vals, index=G.nodes).to_csv(f'results/Undirected_Scattering/Undirected_Scattering_{dataset}_train_val_embedding.csv')"
   ]
  }
 ],
 "metadata": {
  "kernelspec": {
   "display_name": "Python 3",
   "language": "python",
   "name": "python3"
  },
  "language_info": {
   "codemirror_mode": {
    "name": "ipython",
    "version": 3
   },
   "file_extension": ".py",
   "mimetype": "text/x-python",
   "name": "python",
   "nbconvert_exporter": "python",
   "pygments_lexer": "ipython3",
   "version": "3.8.5"
  }
 },
 "nbformat": 4,
 "nbformat_minor": 5
}
